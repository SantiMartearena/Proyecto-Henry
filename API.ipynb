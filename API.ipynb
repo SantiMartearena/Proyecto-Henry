{
 "cells": [
  {
   "cell_type": "code",
   "execution_count": 1,
   "metadata": {},
   "outputs": [],
   "source": [
    "#Primer paso que se realizo fue importar todas las librerias que vamos a utilizar\n",
    "import pandas as pd\n",
    "import json\n",
    "import re\n",
    "from fastapi import FastAPI\n",
    "from datetime import datetime"
   ]
  },
  {
   "attachments": {},
   "cell_type": "markdown",
   "metadata": {},
   "source": [
    "Todos los codigos necesarios para la API"
   ]
  },
  {
   "cell_type": "code",
   "execution_count": 221,
   "metadata": {},
   "outputs": [],
   "source": [
    "# Crear una instancia de FastAPI\n",
    "app = FastAPI()\n",
    "#Formula para Director\n",
    "@app.get(\"/director/{director}\")\n",
    "def get_director(director: str):\n",
    "    df1 = df[df[\"director\"].notna() &df[\"director\"].str.contains(director)]\n",
    "    df1[\"ganancia\"] = df1[\"revenue\"] - df1[\"budget\"]\n",
    "    retorno_director = df1[\"return\"].sum()\n",
    "    resp = df1[[\"title\", \"release_year\", \"return\", \"budget\", \"ganancia\"]]\n",
    "\n",
    "    return [director, retorno_director, resp]\n",
    "\n",
    "\n"
   ]
  },
  {
   "cell_type": "code",
   "execution_count": 222,
   "metadata": {},
   "outputs": [
    {
     "name": "stderr",
     "output_type": "stream",
     "text": [
      "C:\\Users\\Admin\\AppData\\Local\\Temp\\ipykernel_1908\\1971259495.py:7: SettingWithCopyWarning: \n",
      "A value is trying to be set on a copy of a slice from a DataFrame.\n",
      "Try using .loc[row_indexer,col_indexer] = value instead\n",
      "\n",
      "See the caveats in the documentation: https://pandas.pydata.org/pandas-docs/stable/user_guide/indexing.html#returning-a-view-versus-a-copy\n",
      "  df1[\"ganancia\"] = df1[\"revenue\"] - df1[\"budget\"]\n"
     ]
    },
    {
     "data": {
      "text/plain": [
       "['Howard Deutch',\n",
       " inf,\n",
       "                         title release_year    return      budget    ganancia\n",
       " 2            Grumpier Old Men   1995-12-22       NaN         0.0         0.0\n",
       " 1252   Some Kind of Wonderful   1987-02-27       inf         0.0  18553948.0\n",
       " 1736        The Odd Couple II   1998-04-09       NaN         0.0         0.0\n",
       " 3744         The Replacements   2000-08-07       NaN         0.0         0.0\n",
       " 6716               Article 99   1992-03-13  0.354221  18000000.0 -11624021.0\n",
       " 23164                 Gleason   2002-10-13       NaN         0.0         0.0]"
      ]
     },
     "execution_count": 222,
     "metadata": {},
     "output_type": "execute_result"
    }
   ],
   "source": [
    "#Pruebas para ver si funcionan el codigo\n",
    "get_director(\"Howard Deutch\")"
   ]
  },
  {
   "cell_type": "code",
   "execution_count": 223,
   "metadata": {},
   "outputs": [],
   "source": [
    "## Formula para VOTOS\n",
    "@app.get('/votos_titulo')\n",
    "def votos_titulo(titulo_de_la_filmacion):\n",
    "    pelicula = df[df[\"title\"] == titulo_de_la_filmacion]\n",
    "    \n",
    "    if pelicula.empty:\n",
    "        return \"No se encontró la filmación en el dataset.\"\n",
    "    \n",
    "    cantidad_votos = pelicula[\"vote_count\"].iloc[0]\n",
    "    \n",
    "    if cantidad_votos < 2000:\n",
    "        return \"La filmación no cumple con la cantidad mínima de valoraciones.\"\n",
    "    \n",
    "    promedio_votos = pelicula[\"vote_average\"].iloc[0]\n",
    "    mensaje = f\"La película {titulo_de_la_filmacion} fue estrenada en el año {pelicula['release_year'].iloc[0]}. Cuenta con un total de {cantidad_votos} valoraciones, con un promedio de {promedio_votos}.\"\n",
    "    \n",
    "    return mensaje\n"
   ]
  },
  {
   "cell_type": "code",
   "execution_count": 224,
   "metadata": {},
   "outputs": [
    {
     "data": {
      "text/plain": [
       "'La película Jumanji fue estrenada en el año 1995-12-15 00:00:00. Cuenta con un total de 2413.0 valoraciones, con un promedio de 6.9.'"
      ]
     },
     "execution_count": 224,
     "metadata": {},
     "output_type": "execute_result"
    }
   ],
   "source": [
    "votos_titulo('Jumanji')"
   ]
  },
  {
   "cell_type": "code",
   "execution_count": 225,
   "metadata": {},
   "outputs": [],
   "source": [
    "## Formula para Actor\n",
    "@app.get('/get_actor')\n",
    "def get_actor(nombre_actor):\n",
    "    actor_df = df[df[\"actors\"].str.contains(nombre_actor, case=False, na=False)]\n",
    "    actor_df[\"retorno\"] = actor_df[\"revenue\"] - actor_df[\"budget\"]\n",
    "    \n",
    "    cantidad_peliculas = len(actor_df)\n",
    "    retorno_total = actor_df[\"retorno\"].sum()\n",
    "    promedio_retorno = actor_df[\"retorno\"].mean()\n",
    "    \n",
    "    mensaje = f\"El actor {nombre_actor} ha participado en {cantidad_peliculas} filmaciones. Ha conseguido un retorno total de {retorno_total} con un promedio de {promedio_retorno} por filmación.\"\n",
    "    \n",
    "    return mensaje"
   ]
  },
  {
   "cell_type": "code",
   "execution_count": 226,
   "metadata": {},
   "outputs": [
    {
     "name": "stderr",
     "output_type": "stream",
     "text": [
      "C:\\Users\\Admin\\AppData\\Local\\Temp\\ipykernel_1908\\2790984468.py:5: SettingWithCopyWarning: \n",
      "A value is trying to be set on a copy of a slice from a DataFrame.\n",
      "Try using .loc[row_indexer,col_indexer] = value instead\n",
      "\n",
      "See the caveats in the documentation: https://pandas.pydata.org/pandas-docs/stable/user_guide/indexing.html#returning-a-view-versus-a-copy\n",
      "  actor_df[\"retorno\"] = actor_df[\"revenue\"] - actor_df[\"budget\"]\n"
     ]
    },
    {
     "data": {
      "text/plain": [
       "'El actor Tom hanks ha participado en 42 filmaciones. Ha conseguido un retorno total de 6324162814.0 con un promedio de 150575305.0952381 por filmación.'"
      ]
     },
     "execution_count": 226,
     "metadata": {},
     "output_type": "execute_result"
    }
   ],
   "source": [
    "get_actor('Tom hanks')"
   ]
  },
  {
   "cell_type": "code",
   "execution_count": 227,
   "metadata": {},
   "outputs": [],
   "source": [
    "# Formula para Score\n",
    "@app.get('/score_titulo')\n",
    "def score_titulo(titulo_de_la_filmacion):\n",
    "    pelicula = df[df[\"title\"] == titulo_de_la_filmacion]\n",
    "    \n",
    "    if pelicula.empty:\n",
    "        return \"No se encontró la filmación en el dataset.\"\n",
    "    \n",
    "    titulo = pelicula[\"title\"].iloc[0]\n",
    "    ano_estreno = pelicula[\"release_year\"].iloc[0]\n",
    "    score = pelicula[\"popularity\"].iloc[0]\n",
    "    \n",
    "    mensaje = f\"La película {titulo} fue estrenada en el año {ano_estreno} con un score/popularidad de {score}.\"\n",
    "    \n",
    "    return mensaje\n"
   ]
  },
  {
   "cell_type": "code",
   "execution_count": 228,
   "metadata": {},
   "outputs": [
    {
     "data": {
      "text/plain": [
       "'La película Toy Story fue estrenada en el año 1995-10-30 00:00:00 con un score/popularidad de 21.946943.'"
      ]
     },
     "execution_count": 228,
     "metadata": {},
     "output_type": "execute_result"
    }
   ],
   "source": [
    "score_titulo('Toy Story')"
   ]
  },
  {
   "cell_type": "code",
   "execution_count": 229,
   "metadata": {},
   "outputs": [],
   "source": [
    "#Formula para la cantidad de filmaciones por MES\n",
    "@app.get('/cantidad_filmaciones_mes')\n",
    "def cantidad_filmaciones_mes(mes):\n",
    "    mes = mes.lower()\n",
    "    peliculas_mes = df[df[\"release_month\"] == mes]\n",
    "    cantidad = len(peliculas_mes)\n",
    "    \n",
    "    mensaje = f\"{cantidad} cantidad de películas fueron estrenadas en el mes {mes.capitalize()}.\"\n",
    "    \n",
    "    return mensaje"
   ]
  },
  {
   "cell_type": "code",
   "execution_count": 230,
   "metadata": {},
   "outputs": [
    {
     "data": {
      "text/plain": [
       "'2646 cantidad de películas fueron estrenadas en el mes Julio.'"
      ]
     },
     "execution_count": 230,
     "metadata": {},
     "output_type": "execute_result"
    }
   ],
   "source": [
    "cantidad_filmaciones_mes('julio')"
   ]
  },
  {
   "cell_type": "code",
   "execution_count": 231,
   "metadata": {},
   "outputs": [],
   "source": [
    "#Formula para ver cuantas peliculas fueron estrenadas por cierto dia\n",
    "@app.get('/cantidad_filmaciones_dia/{dia}')\n",
    "def cantidad_filmaciones_dia(dia):\n",
    "    dia = dia.lower()\n",
    "    filmaciones_dia = df[df[\"dia_espanol\"].str.lower() == dia]\n",
    "    cantidad = len(filmaciones_dia)\n",
    "    \n",
    "    mensaje = f\"{cantidad} cantidad de películas fueron estrenadas en el día {dia.capitalize()}.\"\n",
    "    \n",
    "    return mensaje"
   ]
  },
  {
   "cell_type": "code",
   "execution_count": 233,
   "metadata": {},
   "outputs": [
    {
     "data": {
      "text/plain": [
       "'4644 cantidad de películas fueron estrenadas en el día Martes.'"
      ]
     },
     "execution_count": 233,
     "metadata": {},
     "output_type": "execute_result"
    }
   ],
   "source": [
    "cantidad_filmaciones_dia('Martes')"
   ]
  },
  {
   "cell_type": "code",
   "execution_count": null,
   "metadata": {},
   "outputs": [],
   "source": [
    "\n",
    "# Convertir columna a tipo datetime\n",
    "df['release_year'] = pd.to_datetime(df['release_year'])\n",
    "\n",
    "# Extraer el mes de la columna 'release_date'\n",
    "df['release_month'] = df['release_year'].dt.month\n",
    "\n",
    "# Mostrar el DataFrame resultante con la columna 'release_month'\n",
    "print(df)\n"
   ]
  },
  {
   "cell_type": "code",
   "execution_count": 78,
   "metadata": {},
   "outputs": [],
   "source": [
    "# Modificar los meses para la consigna\n",
    "# Extraer el mes de la columna 'release_date'\n",
    "df['release_month'] = df['release_year'].dt.month"
   ]
  },
  {
   "cell_type": "code",
   "execution_count": 80,
   "metadata": {},
   "outputs": [],
   "source": [
    "#Cambio los numeros a su mes correspondiente\n",
    "def convertir_mes_letras(numero_mes):\n",
    "    meses = {\n",
    "        1: \"enero\",\n",
    "        2: \"febrero\",\n",
    "        3: \"marzo\",\n",
    "        4: \"abril\",\n",
    "        5: \"mayo\",\n",
    "        6: \"junio\",\n",
    "        7: \"julio\",\n",
    "        8: \"agosto\",\n",
    "        9: \"septiembre\",\n",
    "        10: \"octubre\",\n",
    "        11: \"noviembre\",\n",
    "        12: \"diciembre\"\n",
    "    }\n",
    "    \n",
    "    if numero_mes in meses:\n",
    "        return meses[numero_mes]\n",
    "    else:\n",
    "        return \"Mes inválido\"\n",
    "\n",
    "# Supongamos que tienes un DataFrame llamado df con una columna \"mes\" que contiene números de mes\n",
    "df[\"release_month\"] = df[\"release_month\"].map(convertir_mes_letras)"
   ]
  },
  {
   "cell_type": "code",
   "execution_count": 82,
   "metadata": {},
   "outputs": [],
   "source": [
    "#Formula para crear dias\n",
    "df['release_day'] = df['release_year'].dt.day"
   ]
  },
  {
   "cell_type": "code",
   "execution_count": 83,
   "metadata": {},
   "outputs": [],
   "source": [
    "#Se obtiene el nombre de cada dia en formato texto\n",
    "df[\"release_year\"] = pd.to_datetime(df[\"release_year\"])  \n",
    "\n",
    "def obtener_nombre_dia(fecha):\n",
    "    nombre_dia = fecha.strftime(\"%A\")\n",
    "    return nombre_dia\n",
    "\n",
    "df[\"nombre_dia\"] = df[\"release_year\"].apply(obtener_nombre_dia)"
   ]
  },
  {
   "cell_type": "code",
   "execution_count": 84,
   "metadata": {},
   "outputs": [],
   "source": [
    "#Pasamos los dias de Ingles a Español\n",
    "diccionario_dias = {\n",
    "    \"Monday\": \"Lunes\",\n",
    "    \"Tuesday\": \"Martes\",\n",
    "    \"Wednesday\": \"Miercoles\",\n",
    "    \"Thursday\": \"Jueves\",\n",
    "    \"Friday\": \"Viernes\",\n",
    "    \"Saturday\": \"Sábado\",\n",
    "    \"Sunday\": \"Domingo\"\n",
    "}\n",
    "\n",
    "df[\"nombre_dia_espanol\"] = df[\"nombre_dia\"].map(diccionario_dias)"
   ]
  },
  {
   "cell_type": "code",
   "execution_count": 85,
   "metadata": {},
   "outputs": [],
   "source": [
    "#Borro una columna que me quedo de mas\n",
    "df.drop('nombre_dia', axis=1, inplace=True)"
   ]
  },
  {
   "cell_type": "code",
   "execution_count": 89,
   "metadata": {},
   "outputs": [],
   "source": [
    "#Borro columna llamada original_language\n",
    "df.drop('original_language', axis=1, inplace=True)"
   ]
  },
  {
   "cell_type": "code",
   "execution_count": 135,
   "metadata": {},
   "outputs": [],
   "source": [
    "#Cambie nombre release_date\n",
    "df.rename(columns={'nombre_dia_espanol':'dia_espanol'}, inplace=True)"
   ]
  },
  {
   "cell_type": "code",
   "execution_count": 192,
   "metadata": {},
   "outputs": [],
   "source": [
    "#Ultimo push para guardar el dataset listo\n",
    "df.to_csv('Csv_Proyecto_Terminado.csv', index=False)"
   ]
  },
  {
   "attachments": {},
   "cell_type": "markdown",
   "metadata": {},
   "source": [
    "Funcion Recomendación"
   ]
  },
  {
   "cell_type": "code",
   "execution_count": null,
   "metadata": {},
   "outputs": [],
   "source": [
    "## Importo Libreria\n",
    "from typing import List"
   ]
  },
  {
   "cell_type": "code",
   "execution_count": null,
   "metadata": {},
   "outputs": [],
   "source": [
    "@app.get('/recomendacion')\n",
    "async def recomendacion(titulo: str) -> List[str]:\n",
    "    # Convertir el título proporcionado a minúsculas\n",
    "    titulo = titulo.lower()\n",
    "\n",
    "    # Obtener la fila correspondiente al título proporcionado\n",
    "    pelicula = df.loc[df['title'].str.lower() == titulo]\n",
    "\n",
    "    if pelicula.empty:\n",
    "        return []\n",
    "\n",
    "    # Obtener la puntuación de la película\n",
    "    puntuacion = pelicula['vote_average'].values[0]\n",
    "\n",
    "    # Encontrar películas similares según la puntuación\n",
    "    peliculas_similares = df.loc[df['vote_average'] >= puntuacion].sort_values('vote_average', ascending=False)\n",
    "\n",
    "    # Obtener los títulos de las 5 películas con mayor puntuación\n",
    "    recomendaciones = peliculas_similares['title'].head(5).tolist()\n",
    "\n",
    "    return recomendaciones\n",
    "\n",
    "if _name_ == '_main_':\n",
    "    app.run()"
   ]
  },
  {
   "cell_type": "code",
   "execution_count": null,
   "metadata": {},
   "outputs": [],
   "source": []
  }
 ],
 "metadata": {
  "kernelspec": {
   "display_name": "Python 3",
   "language": "python",
   "name": "python3"
  },
  "language_info": {
   "codemirror_mode": {
    "name": "ipython",
    "version": 3
   },
   "file_extension": ".py",
   "mimetype": "text/x-python",
   "name": "python",
   "nbconvert_exporter": "python",
   "pygments_lexer": "ipython3",
   "version": "3.11.3"
  },
  "orig_nbformat": 4
 },
 "nbformat": 4,
 "nbformat_minor": 2
}
