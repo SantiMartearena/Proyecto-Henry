{
 "cells": [
  {
   "cell_type": "code",
   "execution_count": 1,
   "metadata": {},
   "outputs": [],
   "source": [
    "#Primer paso que se realizo fue importar todas las librerias que vamos a utilizar\n",
    "import pandas as pd\n",
    "import json\n",
    "import re\n",
    "from fastapi import FastAPI\n",
    "from datetime import datetime"
   ]
  },
  {
   "cell_type": "code",
   "execution_count": 2,
   "metadata": {},
   "outputs": [
    {
     "name": "stderr",
     "output_type": "stream",
     "text": [
      "C:\\Users\\Admin\\AppData\\Local\\Temp\\ipykernel_1908\\1350539841.py:2: DtypeWarning: Columns (10) have mixed types. Specify dtype option on import or set low_memory=False.\n",
      "  df1 = pd.read_csv(r\"C:\\Users\\Admin\\Desktop\\SoyHenry\\Proyectos\\Individual 1\\movies_dataset.csv\")\n"
     ]
    }
   ],
   "source": [
    "#Primer arcivho csv importado\n",
    "df1 = pd.read_csv(r\"C:\\Users\\Admin\\Desktop\\SoyHenry\\Proyectos\\Individual 1\\movies_dataset.csv\")"
   ]
  },
  {
   "cell_type": "code",
   "execution_count": 3,
   "metadata": {},
   "outputs": [],
   "source": [
    "#Segundo csv importado\n",
    "df_credits = pd.read_csv(r\"C:\\Users\\Admin\\Desktop\\SoyHenry\\Proyectos\\credits.csv\")"
   ]
  },
  {
   "attachments": {},
   "cell_type": "markdown",
   "metadata": {},
   "source": [
    "Proceso de ETL"
   ]
  },
  {
   "cell_type": "code",
   "execution_count": 4,
   "metadata": {},
   "outputs": [],
   "source": [
    "#Primer paso para desanidar\n",
    "class desanidar:\n",
    "    @staticmethod\n",
    "    def convertir_a_str(valor):\n",
    "        if isinstance(valor, (list, dict)):\n",
    "            return json.dumps(valor)\n",
    "        return str(valor)\n",
    "    @staticmethod\n",
    "    def extraer_nombres(valor):\n",
    "        pattern = r\"'name': '([^']*)'\"\n",
    "        coincidencias = re.findall(pattern, valor)\n",
    "        if len(coincidencias) > 0:\n",
    "            nombre = coincidencias[0]\n",
    "            return nombre\n",
    "        else:\n",
    "            return None"
   ]
  },
  {
   "cell_type": "code",
   "execution_count": 5,
   "metadata": {},
   "outputs": [],
   "source": [
    "#Segundo paso para desanidar (Son varios)\n",
    "df1['belongs_to_collection'] = df1['belongs_to_collection'].apply(desanidar.convertir_a_str).apply(desanidar.extraer_nombres)"
   ]
  },
  {
   "cell_type": "code",
   "execution_count": 6,
   "metadata": {},
   "outputs": [],
   "source": [
    "df1['genres'] = df1['genres'].apply(desanidar.convertir_a_str).apply(desanidar.extraer_nombres)"
   ]
  },
  {
   "cell_type": "code",
   "execution_count": 7,
   "metadata": {},
   "outputs": [],
   "source": [
    "df1['production_companies'] = df1['production_companies'].apply(desanidar.convertir_a_str).apply(desanidar.extraer_nombres)"
   ]
  },
  {
   "cell_type": "code",
   "execution_count": 8,
   "metadata": {},
   "outputs": [],
   "source": [
    "df1['production_countries'] = df1['production_countries'].apply(desanidar.convertir_a_str).apply(desanidar.extraer_nombres)"
   ]
  },
  {
   "cell_type": "code",
   "execution_count": 9,
   "metadata": {},
   "outputs": [],
   "source": [
    "df1['spoken_languages'] = df1['spoken_languages'].apply(desanidar.convertir_a_str).apply(desanidar.extraer_nombres)"
   ]
  },
  {
   "cell_type": "code",
   "execution_count": 10,
   "metadata": {},
   "outputs": [],
   "source": [
    "df_credits['cast'] = df_credits['cast'].apply(desanidar.convertir_a_str).apply(desanidar.extraer_nombres)"
   ]
  },
  {
   "cell_type": "code",
   "execution_count": 11,
   "metadata": {},
   "outputs": [],
   "source": [
    "df_credits['crew'] = df_credits['crew'].apply(desanidar.convertir_a_str).apply(desanidar.extraer_nombres)"
   ]
  },
  {
   "cell_type": "code",
   "execution_count": null,
   "metadata": {},
   "outputs": [],
   "source": [
    "#Borro una columnas que estaban de mas\n",
    "df1 = df1.dropna(subset=['release_date'])\n"
   ]
  },
  {
   "cell_type": "code",
   "execution_count": null,
   "metadata": {},
   "outputs": [],
   "source": [
    "columnas_a_eliminar = ['video', 'imdb_id', 'adult', 'original_title', 'poster_path', 'homepage']\n",
    "df1 = df1.drop(columns=columnas_a_eliminar)"
   ]
  },
  {
   "cell_type": "code",
   "execution_count": 13,
   "metadata": {},
   "outputs": [],
   "source": [
    "# Convertir las columnas 'budget' y 'revenue' a tipo numérico\n",
    "df1['budget'] = pd.to_numeric(df1['budget'], errors='coerce')\n",
    "df1['revenue'] = pd.to_numeric(df1['revenue'], errors='coerce')\n",
    "\n",
    "# Calcular el retorno de inversión y asignar el valor 0 cuando no haya datos disponibles\n",
    "df1['return'] = df1['revenue'].div(df1['budget'], fill_value=0)"
   ]
  },
  {
   "cell_type": "code",
   "execution_count": 15,
   "metadata": {},
   "outputs": [],
   "source": [
    "##Cambio a numerico el tipo de datos de la columna ID\n",
    "df1['id'] = pd.to_numeric(df1['id'], errors='coerce')"
   ]
  },
  {
   "cell_type": "code",
   "execution_count": null,
   "metadata": {},
   "outputs": [],
   "source": [
    "#Observo cuales son las columnas sin ID\n",
    "df1[df1['id'].isnull()]"
   ]
  },
  {
   "cell_type": "code",
   "execution_count": 17,
   "metadata": {},
   "outputs": [],
   "source": [
    "#Dado que solo son 3, decido eliminarlas\n",
    "df1 = df1.dropna(subset=['id'])"
   ]
  },
  {
   "cell_type": "code",
   "execution_count": 18,
   "metadata": {},
   "outputs": [],
   "source": [
    "#Cambio el tipo de dato de float a int de la columna, para que coincida en ambos df\n",
    "df1['id'] = df1['id'].astype(int)"
   ]
  },
  {
   "cell_type": "code",
   "execution_count": 62,
   "metadata": {},
   "outputs": [],
   "source": [
    "#Realizo un merge entre los dos datasets que tenemos\n",
    "df= pd.merge(df1, df_credits, on='id')"
   ]
  },
  {
   "cell_type": "code",
   "execution_count": 64,
   "metadata": {},
   "outputs": [],
   "source": [
    "#Cambie nombre de crew a Director\n",
    "df.rename(columns={'crew':'director'}, inplace=True)\n"
   ]
  },
  {
   "cell_type": "code",
   "execution_count": 65,
   "metadata": {},
   "outputs": [],
   "source": [
    "#Cambie nombre de cast a actors\n",
    "df.rename(columns={'cast':'actors'}, inplace=True)\n"
   ]
  },
  {
   "cell_type": "code",
   "execution_count": 66,
   "metadata": {},
   "outputs": [],
   "source": [
    "#Cambie nombre release_date\n",
    "df.rename(columns={'release_date':'release_year'}, inplace=True)"
   ]
  },
  {
   "cell_type": "code",
   "execution_count": 67,
   "metadata": {},
   "outputs": [],
   "source": [
    "#Borre la columna belongs_to_collection\n",
    "df.drop('belongs_to_collection', axis=1, inplace=True)"
   ]
  },
  {
   "cell_type": "code",
   "execution_count": 68,
   "metadata": {},
   "outputs": [],
   "source": [
    "#Guardado de precaución\n",
    "df.to_csv('movies_modificado.csv', index=False)"
   ]
  },
  {
   "cell_type": "code",
   "execution_count": 234,
   "metadata": {},
   "outputs": [
    {
     "data": {
      "text/html": [
       "<div>\n",
       "<style scoped>\n",
       "    .dataframe tbody tr th:only-of-type {\n",
       "        vertical-align: middle;\n",
       "    }\n",
       "\n",
       "    .dataframe tbody tr th {\n",
       "        vertical-align: top;\n",
       "    }\n",
       "\n",
       "    .dataframe thead th {\n",
       "        text-align: right;\n",
       "    }\n",
       "</style>\n",
       "<table border=\"1\" class=\"dataframe\">\n",
       "  <thead>\n",
       "    <tr style=\"text-align: right;\">\n",
       "      <th></th>\n",
       "      <th>budget</th>\n",
       "      <th>genres</th>\n",
       "      <th>id</th>\n",
       "      <th>overview</th>\n",
       "      <th>popularity</th>\n",
       "      <th>production_companies</th>\n",
       "      <th>production_countries</th>\n",
       "      <th>release_year</th>\n",
       "      <th>revenue</th>\n",
       "      <th>runtime</th>\n",
       "      <th>...</th>\n",
       "      <th>tagline</th>\n",
       "      <th>title</th>\n",
       "      <th>vote_average</th>\n",
       "      <th>vote_count</th>\n",
       "      <th>return</th>\n",
       "      <th>actors</th>\n",
       "      <th>director</th>\n",
       "      <th>release_month</th>\n",
       "      <th>release_day</th>\n",
       "      <th>dia_espanol</th>\n",
       "    </tr>\n",
       "  </thead>\n",
       "  <tbody>\n",
       "    <tr>\n",
       "      <th>0</th>\n",
       "      <td>30000000.0</td>\n",
       "      <td>Animation</td>\n",
       "      <td>862</td>\n",
       "      <td>Led by Woody, Andy's toys live happily in his ...</td>\n",
       "      <td>21.946943</td>\n",
       "      <td>Pixar Animation Studios</td>\n",
       "      <td>United States of America</td>\n",
       "      <td>1995-10-30</td>\n",
       "      <td>373554033.0</td>\n",
       "      <td>81.0</td>\n",
       "      <td>...</td>\n",
       "      <td>NaN</td>\n",
       "      <td>Toy Story</td>\n",
       "      <td>7.7</td>\n",
       "      <td>5415.0</td>\n",
       "      <td>12.451801</td>\n",
       "      <td>Tom Hanks</td>\n",
       "      <td>John Lasseter</td>\n",
       "      <td>octubre</td>\n",
       "      <td>30</td>\n",
       "      <td>Lunes</td>\n",
       "    </tr>\n",
       "    <tr>\n",
       "      <th>1</th>\n",
       "      <td>65000000.0</td>\n",
       "      <td>Adventure</td>\n",
       "      <td>8844</td>\n",
       "      <td>When siblings Judy and Peter discover an encha...</td>\n",
       "      <td>17.015539</td>\n",
       "      <td>TriStar Pictures</td>\n",
       "      <td>United States of America</td>\n",
       "      <td>1995-12-15</td>\n",
       "      <td>262797249.0</td>\n",
       "      <td>104.0</td>\n",
       "      <td>...</td>\n",
       "      <td>Roll the dice and unleash the excitement!</td>\n",
       "      <td>Jumanji</td>\n",
       "      <td>6.9</td>\n",
       "      <td>2413.0</td>\n",
       "      <td>4.043035</td>\n",
       "      <td>Robin Williams</td>\n",
       "      <td>Larry J. Franco</td>\n",
       "      <td>diciembre</td>\n",
       "      <td>15</td>\n",
       "      <td>Viernes</td>\n",
       "    </tr>\n",
       "  </tbody>\n",
       "</table>\n",
       "<p>2 rows × 22 columns</p>\n",
       "</div>"
      ],
      "text/plain": [
       "       budget     genres    id  \\\n",
       "0  30000000.0  Animation   862   \n",
       "1  65000000.0  Adventure  8844   \n",
       "\n",
       "                                            overview popularity  \\\n",
       "0  Led by Woody, Andy's toys live happily in his ...  21.946943   \n",
       "1  When siblings Judy and Peter discover an encha...  17.015539   \n",
       "\n",
       "      production_companies      production_countries release_year  \\\n",
       "0  Pixar Animation Studios  United States of America   1995-10-30   \n",
       "1         TriStar Pictures  United States of America   1995-12-15   \n",
       "\n",
       "       revenue  runtime  ...                                    tagline  \\\n",
       "0  373554033.0     81.0  ...                                        NaN   \n",
       "1  262797249.0    104.0  ...  Roll the dice and unleash the excitement!   \n",
       "\n",
       "       title vote_average vote_count     return          actors  \\\n",
       "0  Toy Story          7.7     5415.0  12.451801       Tom Hanks   \n",
       "1    Jumanji          6.9     2413.0   4.043035  Robin Williams   \n",
       "\n",
       "          director release_month release_day dia_espanol  \n",
       "0    John Lasseter       octubre          30       Lunes  \n",
       "1  Larry J. Franco     diciembre          15     Viernes  \n",
       "\n",
       "[2 rows x 22 columns]"
      ]
     },
     "execution_count": 234,
     "metadata": {},
     "output_type": "execute_result"
    }
   ],
   "source": [
    "#Visualizamos el dataset\n",
    "df.head(2)"
   ]
  },
  {
   "attachments": {},
   "cell_type": "markdown",
   "metadata": {},
   "source": [
    "Todos los codigos necesarios para la API"
   ]
  },
  {
   "cell_type": "code",
   "execution_count": 221,
   "metadata": {},
   "outputs": [],
   "source": [
    "# Crear una instancia de FastAPI\n",
    "app = FastAPI()\n",
    "#Formula para Director\n",
    "@app.get(\"/director/{director}\")\n",
    "def get_director(director: str):\n",
    "    df1 = df[df[\"director\"].notna() &df[\"director\"].str.contains(director)]\n",
    "    df1[\"ganancia\"] = df1[\"revenue\"] - df1[\"budget\"]\n",
    "    retorno_director = df1[\"return\"].sum()\n",
    "    resp = df1[[\"title\", \"release_year\", \"return\", \"budget\", \"ganancia\"]]\n",
    "\n",
    "    return [director, retorno_director, resp]\n",
    "\n",
    "\n"
   ]
  },
  {
   "cell_type": "code",
   "execution_count": 222,
   "metadata": {},
   "outputs": [
    {
     "name": "stderr",
     "output_type": "stream",
     "text": [
      "C:\\Users\\Admin\\AppData\\Local\\Temp\\ipykernel_1908\\1971259495.py:7: SettingWithCopyWarning: \n",
      "A value is trying to be set on a copy of a slice from a DataFrame.\n",
      "Try using .loc[row_indexer,col_indexer] = value instead\n",
      "\n",
      "See the caveats in the documentation: https://pandas.pydata.org/pandas-docs/stable/user_guide/indexing.html#returning-a-view-versus-a-copy\n",
      "  df1[\"ganancia\"] = df1[\"revenue\"] - df1[\"budget\"]\n"
     ]
    },
    {
     "data": {
      "text/plain": [
       "['Howard Deutch',\n",
       " inf,\n",
       "                         title release_year    return      budget    ganancia\n",
       " 2            Grumpier Old Men   1995-12-22       NaN         0.0         0.0\n",
       " 1252   Some Kind of Wonderful   1987-02-27       inf         0.0  18553948.0\n",
       " 1736        The Odd Couple II   1998-04-09       NaN         0.0         0.0\n",
       " 3744         The Replacements   2000-08-07       NaN         0.0         0.0\n",
       " 6716               Article 99   1992-03-13  0.354221  18000000.0 -11624021.0\n",
       " 23164                 Gleason   2002-10-13       NaN         0.0         0.0]"
      ]
     },
     "execution_count": 222,
     "metadata": {},
     "output_type": "execute_result"
    }
   ],
   "source": [
    "#Pruebas para ver si funcionan los codigos\n",
    "get_director(\"Howard Deutch\")"
   ]
  },
  {
   "cell_type": "code",
   "execution_count": 223,
   "metadata": {},
   "outputs": [],
   "source": [
    "## Formula para VOTOS\n",
    "@app.get('/votos_titulo')\n",
    "def votos_titulo(titulo_de_la_filmacion):\n",
    "    pelicula = df[df[\"title\"] == titulo_de_la_filmacion]\n",
    "    \n",
    "    if pelicula.empty:\n",
    "        return \"No se encontró la filmación en el dataset.\"\n",
    "    \n",
    "    cantidad_votos = pelicula[\"vote_count\"].iloc[0]\n",
    "    \n",
    "    if cantidad_votos < 2000:\n",
    "        return \"La filmación no cumple con la cantidad mínima de valoraciones.\"\n",
    "    \n",
    "    promedio_votos = pelicula[\"vote_average\"].iloc[0]\n",
    "    mensaje = f\"La película {titulo_de_la_filmacion} fue estrenada en el año {pelicula['release_year'].iloc[0]}. Cuenta con un total de {cantidad_votos} valoraciones, con un promedio de {promedio_votos}.\"\n",
    "    \n",
    "    return mensaje\n"
   ]
  },
  {
   "cell_type": "code",
   "execution_count": 224,
   "metadata": {},
   "outputs": [
    {
     "data": {
      "text/plain": [
       "'La película Jumanji fue estrenada en el año 1995-12-15 00:00:00. Cuenta con un total de 2413.0 valoraciones, con un promedio de 6.9.'"
      ]
     },
     "execution_count": 224,
     "metadata": {},
     "output_type": "execute_result"
    }
   ],
   "source": [
    "votos_titulo('Jumanji')"
   ]
  },
  {
   "cell_type": "code",
   "execution_count": 225,
   "metadata": {},
   "outputs": [],
   "source": [
    "## Formula para Actor\n",
    "@app.get('/get_actor')\n",
    "def get_actor(nombre_actor):\n",
    "    actor_df = df[df[\"actors\"].str.contains(nombre_actor, case=False, na=False)]\n",
    "    actor_df[\"retorno\"] = actor_df[\"revenue\"] - actor_df[\"budget\"]\n",
    "    \n",
    "    cantidad_peliculas = len(actor_df)\n",
    "    retorno_total = actor_df[\"retorno\"].sum()\n",
    "    promedio_retorno = actor_df[\"retorno\"].mean()\n",
    "    \n",
    "    mensaje = f\"El actor {nombre_actor} ha participado en {cantidad_peliculas} filmaciones. Ha conseguido un retorno total de {retorno_total} con un promedio de {promedio_retorno} por filmación.\"\n",
    "    \n",
    "    return mensaje"
   ]
  },
  {
   "cell_type": "code",
   "execution_count": 226,
   "metadata": {},
   "outputs": [
    {
     "name": "stderr",
     "output_type": "stream",
     "text": [
      "C:\\Users\\Admin\\AppData\\Local\\Temp\\ipykernel_1908\\2790984468.py:5: SettingWithCopyWarning: \n",
      "A value is trying to be set on a copy of a slice from a DataFrame.\n",
      "Try using .loc[row_indexer,col_indexer] = value instead\n",
      "\n",
      "See the caveats in the documentation: https://pandas.pydata.org/pandas-docs/stable/user_guide/indexing.html#returning-a-view-versus-a-copy\n",
      "  actor_df[\"retorno\"] = actor_df[\"revenue\"] - actor_df[\"budget\"]\n"
     ]
    },
    {
     "data": {
      "text/plain": [
       "'El actor Tom hanks ha participado en 42 filmaciones. Ha conseguido un retorno total de 6324162814.0 con un promedio de 150575305.0952381 por filmación.'"
      ]
     },
     "execution_count": 226,
     "metadata": {},
     "output_type": "execute_result"
    }
   ],
   "source": [
    "get_actor('Tom hanks')"
   ]
  },
  {
   "cell_type": "code",
   "execution_count": 227,
   "metadata": {},
   "outputs": [],
   "source": [
    "# Formula para Score\n",
    "@app.get('/score_titulo')\n",
    "def score_titulo(titulo_de_la_filmacion):\n",
    "    pelicula = df[df[\"title\"] == titulo_de_la_filmacion]\n",
    "    \n",
    "    if pelicula.empty:\n",
    "        return \"No se encontró la filmación en el dataset.\"\n",
    "    \n",
    "    titulo = pelicula[\"title\"].iloc[0]\n",
    "    ano_estreno = pelicula[\"release_year\"].iloc[0]\n",
    "    score = pelicula[\"popularity\"].iloc[0]\n",
    "    \n",
    "    mensaje = f\"La película {titulo} fue estrenada en el año {ano_estreno} con un score/popularidad de {score}.\"\n",
    "    \n",
    "    return mensaje\n"
   ]
  },
  {
   "cell_type": "code",
   "execution_count": 228,
   "metadata": {},
   "outputs": [
    {
     "data": {
      "text/plain": [
       "'La película Toy Story fue estrenada en el año 1995-10-30 00:00:00 con un score/popularidad de 21.946943.'"
      ]
     },
     "execution_count": 228,
     "metadata": {},
     "output_type": "execute_result"
    }
   ],
   "source": [
    "score_titulo('Toy Story')"
   ]
  },
  {
   "cell_type": "code",
   "execution_count": 229,
   "metadata": {},
   "outputs": [],
   "source": [
    "#Formula para la cantidad de filmaciones por MES\n",
    "@app.get('/cantidad_filmaciones_mes')\n",
    "def cantidad_filmaciones_mes(mes):\n",
    "    mes = mes.lower()\n",
    "    peliculas_mes = df[df[\"release_month\"] == mes]\n",
    "    cantidad = len(peliculas_mes)\n",
    "    \n",
    "    mensaje = f\"{cantidad} cantidad de películas fueron estrenadas en el mes {mes.capitalize()}.\"\n",
    "    \n",
    "    return mensaje"
   ]
  },
  {
   "cell_type": "code",
   "execution_count": 230,
   "metadata": {},
   "outputs": [
    {
     "data": {
      "text/plain": [
       "'2646 cantidad de películas fueron estrenadas en el mes Julio.'"
      ]
     },
     "execution_count": 230,
     "metadata": {},
     "output_type": "execute_result"
    }
   ],
   "source": [
    "cantidad_filmaciones_mes('julio')"
   ]
  },
  {
   "cell_type": "code",
   "execution_count": 231,
   "metadata": {},
   "outputs": [],
   "source": [
    "#Formula para ver cuantas peliculas fueron estrenadas por cierto dia\n",
    "@app.get('/cantidad_filmaciones_dia/{dia}')\n",
    "def cantidad_filmaciones_dia(dia):\n",
    "    dia = dia.lower()\n",
    "    filmaciones_dia = df[df[\"dia_espanol\"].str.lower() == dia]\n",
    "    cantidad = len(filmaciones_dia)\n",
    "    \n",
    "    mensaje = f\"{cantidad} cantidad de películas fueron estrenadas en el día {dia.capitalize()}.\"\n",
    "    \n",
    "    return mensaje"
   ]
  },
  {
   "cell_type": "code",
   "execution_count": 233,
   "metadata": {},
   "outputs": [
    {
     "data": {
      "text/plain": [
       "'4644 cantidad de películas fueron estrenadas en el día Martes.'"
      ]
     },
     "execution_count": 233,
     "metadata": {},
     "output_type": "execute_result"
    }
   ],
   "source": [
    "cantidad_filmaciones_dia('Martes')"
   ]
  },
  {
   "cell_type": "code",
   "execution_count": null,
   "metadata": {},
   "outputs": [],
   "source": [
    "\n",
    "# Convertir columna a tipo datetime\n",
    "df['release_year'] = pd.to_datetime(df['release_year'])\n",
    "\n",
    "# Extraer el mes de la columna 'release_date'\n",
    "df['release_month'] = df['release_year'].dt.month\n",
    "\n",
    "# Mostrar el DataFrame resultante con la columna 'release_month'\n",
    "print(df)\n"
   ]
  },
  {
   "cell_type": "code",
   "execution_count": 78,
   "metadata": {},
   "outputs": [],
   "source": [
    "# Modificar los meses para la consigna\n",
    "# Extraer el mes de la columna 'release_date'\n",
    "df['release_month'] = df['release_year'].dt.month"
   ]
  },
  {
   "cell_type": "code",
   "execution_count": 80,
   "metadata": {},
   "outputs": [],
   "source": [
    "#Cambio los numeros a su mes correspondiente\n",
    "def convertir_mes_letras(numero_mes):\n",
    "    meses = {\n",
    "        1: \"enero\",\n",
    "        2: \"febrero\",\n",
    "        3: \"marzo\",\n",
    "        4: \"abril\",\n",
    "        5: \"mayo\",\n",
    "        6: \"junio\",\n",
    "        7: \"julio\",\n",
    "        8: \"agosto\",\n",
    "        9: \"septiembre\",\n",
    "        10: \"octubre\",\n",
    "        11: \"noviembre\",\n",
    "        12: \"diciembre\"\n",
    "    }\n",
    "    \n",
    "    if numero_mes in meses:\n",
    "        return meses[numero_mes]\n",
    "    else:\n",
    "        return \"Mes inválido\"\n",
    "\n",
    "# Supongamos que tienes un DataFrame llamado df con una columna \"mes\" que contiene números de mes\n",
    "df[\"release_month\"] = df[\"release_month\"].map(convertir_mes_letras)"
   ]
  },
  {
   "cell_type": "code",
   "execution_count": 82,
   "metadata": {},
   "outputs": [],
   "source": [
    "#Formula para crear dias\n",
    "df['release_day'] = df['release_year'].dt.day"
   ]
  },
  {
   "cell_type": "code",
   "execution_count": 83,
   "metadata": {},
   "outputs": [],
   "source": [
    "#Se obtiene el nombre de cada dia en formato texto\n",
    "df[\"release_year\"] = pd.to_datetime(df[\"release_year\"])  \n",
    "\n",
    "def obtener_nombre_dia(fecha):\n",
    "    nombre_dia = fecha.strftime(\"%A\")\n",
    "    return nombre_dia\n",
    "\n",
    "df[\"nombre_dia\"] = df[\"release_year\"].apply(obtener_nombre_dia)"
   ]
  },
  {
   "cell_type": "code",
   "execution_count": 84,
   "metadata": {},
   "outputs": [],
   "source": [
    "#Pasamos los dias de Ingles a Español\n",
    "diccionario_dias = {\n",
    "    \"Monday\": \"Lunes\",\n",
    "    \"Tuesday\": \"Martes\",\n",
    "    \"Wednesday\": \"Miercoles\",\n",
    "    \"Thursday\": \"Jueves\",\n",
    "    \"Friday\": \"Viernes\",\n",
    "    \"Saturday\": \"Sábado\",\n",
    "    \"Sunday\": \"Domingo\"\n",
    "}\n",
    "\n",
    "df[\"nombre_dia_espanol\"] = df[\"nombre_dia\"].map(diccionario_dias)"
   ]
  },
  {
   "cell_type": "code",
   "execution_count": 85,
   "metadata": {},
   "outputs": [],
   "source": [
    "#Borro una columna que me quedo de mas\n",
    "df.drop('nombre_dia', axis=1, inplace=True)"
   ]
  },
  {
   "cell_type": "code",
   "execution_count": 89,
   "metadata": {},
   "outputs": [],
   "source": [
    "#Borro columna llamada original_language\n",
    "df.drop('original_language', axis=1, inplace=True)"
   ]
  },
  {
   "cell_type": "code",
   "execution_count": 135,
   "metadata": {},
   "outputs": [],
   "source": [
    "#Cambie nombre release_date\n",
    "df.rename(columns={'nombre_dia_espanol':'dia_espanol'}, inplace=True)"
   ]
  },
  {
   "cell_type": "code",
   "execution_count": 192,
   "metadata": {},
   "outputs": [],
   "source": [
    "#Ultimo push para guardar el dataset listo\n",
    "df.to_csv('Csv_Proyecto_Terminado.csv', index=False)"
   ]
  }
 ],
 "metadata": {
  "kernelspec": {
   "display_name": "Python 3",
   "language": "python",
   "name": "python3"
  },
  "language_info": {
   "codemirror_mode": {
    "name": "ipython",
    "version": 3
   },
   "file_extension": ".py",
   "mimetype": "text/x-python",
   "name": "python",
   "nbconvert_exporter": "python",
   "pygments_lexer": "ipython3",
   "version": "3.11.3"
  },
  "orig_nbformat": 4
 },
 "nbformat": 4,
 "nbformat_minor": 2
}
